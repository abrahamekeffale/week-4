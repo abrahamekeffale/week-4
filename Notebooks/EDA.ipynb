{
 "cells": [
  {
   "cell_type": "code",
   "execution_count": 20,
   "metadata": {},
   "outputs": [],
   "source": [
    "import sys\n",
    "sys.path.append('C:/Users/HP/week 4/.venv/Scripts')"
   ]
  },
  {
   "cell_type": "code",
   "execution_count": 21,
   "metadata": {},
   "outputs": [
    {
     "ename": "ModuleNotFoundError",
     "evalue": "No module named 'scripts.data_loader'",
     "output_type": "error",
     "traceback": [
      "\u001b[1;31m---------------------------------------------------------------------------\u001b[0m",
      "\u001b[1;31mModuleNotFoundError\u001b[0m                       Traceback (most recent call last)",
      "Cell \u001b[1;32mIn[21], line 2\u001b[0m\n\u001b[0;32m      1\u001b[0m \u001b[38;5;66;03m# Import the custom modules\u001b[39;00m\n\u001b[1;32m----> 2\u001b[0m \u001b[38;5;28;01mfrom\u001b[39;00m \u001b[38;5;21;01mscripts\u001b[39;00m\u001b[38;5;21;01m.\u001b[39;00m\u001b[38;5;21;01mdata_loader\u001b[39;00m \u001b[38;5;28;01mimport\u001b[39;00m load_data\n\u001b[0;32m      3\u001b[0m \u001b[38;5;28;01mfrom\u001b[39;00m \u001b[38;5;21;01mscripts\u001b[39;00m\u001b[38;5;21;01m.\u001b[39;00m\u001b[38;5;21;01mdata_cleaning\u001b[39;00m \u001b[38;5;28;01mimport\u001b[39;00m handle_missing_data, remove_outliers\n\u001b[0;32m      4\u001b[0m \u001b[38;5;28;01mfrom\u001b[39;00m \u001b[38;5;21;01mscripts\u001b[39;00m\u001b[38;5;21;01m.\u001b[39;00m\u001b[38;5;21;01manalysis\u001b[39;00m \u001b[38;5;28;01mimport\u001b[39;00m correlation_analysis, sales_promo_analysis\n",
      "\u001b[1;31mModuleNotFoundError\u001b[0m: No module named 'scripts.data_loader'"
     ]
    }
   ],
   "source": [
    "# Import the custom modules\n",
    "from scripts.data_loader import load_data\n",
    "from scripts.data_cleaning import handle_missing_data, remove_outliers\n",
    "from scripts.analysis import correlation_analysis, sales_promo_analysis\n",
    "from scripts.visualization import plot_distribution, plot_boxplot, plot_correlation_heatmap"
   ]
  },
  {
   "cell_type": "code",
   "execution_count": null,
   "metadata": {},
   "outputs": [],
   "source": [
    "# Load the data\n",
    "train_data, test_data = load_data('Data/train.csv', 'Data/test.csv')\n",
    "\n",
    "# Clean the data\n",
    "train_data = handle_missing_data(train_data)\n",
    "train_data = remove_outliers(train_data)\n",
    "\n",
    "# EDA: Distribution of promos\n",
    "plot_distribution(train_data, 'Promo', 'Promo Distribution in Train Set')\n",
    "\n",
    "# EDA: Correlation between sales and customers\n",
    "correlation_matrix = correlation_analysis(train_data, ['Sales', 'Customers'])\n",
    "print(correlation_matrix)\n",
    "plot_correlation_heatmap(train_data, ['Sales', 'Customers'], 'Sales vs Customers Correlation')\n",
    "\n",
    "# Analyze promo's effect on sales\n",
    "promo_sales_summary = sales_promo_analysis(train_data)\n",
    "print(promo_sales_summary)\n",
    "\n",
    "# EDA: Boxplot for sales with and without promos\n",
    "plot_boxplot(train_data, 'Promo', 'Sales', 'Sales With and Without Promotions')\n"
   ]
  },
  {
   "cell_type": "code",
   "execution_count": null,
   "metadata": {},
   "outputs": [],
   "source": []
  },
  {
   "cell_type": "code",
   "execution_count": null,
   "metadata": {},
   "outputs": [],
   "source": []
  },
  {
   "cell_type": "code",
   "execution_count": null,
   "metadata": {},
   "outputs": [],
   "source": []
  },
  {
   "cell_type": "code",
   "execution_count": null,
   "metadata": {},
   "outputs": [],
   "source": []
  }
 ],
 "metadata": {
  "kernelspec": {
   "display_name": ".venv",
   "language": "python",
   "name": "python3"
  },
  "language_info": {
   "codemirror_mode": {
    "name": "ipython",
    "version": 3
   },
   "file_extension": ".py",
   "mimetype": "text/x-python",
   "name": "python",
   "nbconvert_exporter": "python",
   "pygments_lexer": "ipython3",
   "version": "3.12.3"
  }
 },
 "nbformat": 4,
 "nbformat_minor": 2
}
